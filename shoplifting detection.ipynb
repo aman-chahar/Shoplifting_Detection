{
 "cells": [
  {
   "cell_type": "markdown",
   "metadata": {},
   "source": [
    "## Theft Detection Algorithm\n",
    "\n",
    "This assignment is designed to assess your skills in building a theft detection algorithm using\n",
    "video data, specifically focusing on shoplifting scenarios.\n",
    "Dataset: DCSASS Dataset https://www.kaggle.com/datasets/mateohervas/dcsass-dataset\n",
    "The DCSASS dataset contains a variety of video clips categorized into different activities,\n",
    "including shoplifting. We will be focusing on videos labeled as \"shoplifting\" and \"normal\" to train\n",
    "our theft detection model.\n",
    "- Just use videos under shoplifting category\n",
    "Task:\n",
    "1. Data Preprocessing: Download the DCSASS dataset and filter for videos labeled as\n",
    "\"shoplifting\" and \"normal.\" Preprocess the videos by converting them into a suitable\n",
    "format for your chosen machine learning model.\n",
    "2. Feature Engineering: Extract relevant features from the preprocessed videos that can\n",
    "be used to identify shoplifting activities.\n",
    "3. Model Building: Develop a machine learning model to classify video frames/clips as\n",
    "containing shoplifting or not containing shoplifting.\n",
    "4. Evaluation: Evaluate the performance of your model using relevant metrics like:\n",
    "○ Accuracy: Overall percentage of correct classifications.\n",
    "○ Precision: Ratio of true positives (correctly identified shoplifting) to total positive\n",
    "predictions.\n",
    "○ Recall: Ratio of true positives to actual shoplifting instances in the dataset.\n",
    "○ F1 Score: Harmonic mean of precision and recall, balancing both metrics.\n",
    "5. Report: Prepare a report summarizing your approach, including:\n",
    "○ Data preprocessing steps and rationale for chosen techniques.\n",
    "○ Feature engineering methods and their effectiveness in identifying shoplifting.\n",
    "○ Model selection with justification and hyperparameter tuning (if applicable).\n",
    "○ Evaluation results, including confusion matrix and chosen metrics.\n",
    "○ Discussion of strengths, weaknesses, and potential improvements to your\n",
    "approach.\n",
    "Deliverables:\n",
    "● Jupyter Notebook or Python script containing your code\n",
    "● Report summarizing your methodology, results, and discussion\n",
    "Evaluation Criteria:\n",
    "● Clarity and efficiency of code\n",
    "● Appropriateness of feature engineering techniques\n",
    "● Model selection and justification\n",
    "● Performance of the model on the shoplifting detection task\n",
    "● Communication and insights presented in the report"
   ]
  },
  {
   "cell_type": "code",
   "execution_count": 31,
   "metadata": {
    "execution": {
     "iopub.execute_input": "2024-04-23T18:55:19.656259Z",
     "iopub.status.busy": "2024-04-23T18:55:19.655466Z",
     "iopub.status.idle": "2024-04-23T18:55:19.963751Z",
     "shell.execute_reply": "2024-04-23T18:55:19.962648Z",
     "shell.execute_reply.started": "2024-04-23T18:55:19.656223Z"
    }
   },
   "outputs": [],
   "source": [
    "import numpy as np\n",
    "import pandas as pd\n",
    "import tensorflow as tf\n",
    "import matplotlib.pyplot as plt\n",
    "import seaborn as sns\n",
    "\n",
    "from sklearn.model_selection import train_test_split\n",
    "from sklearn.metrics import precision_recall_fscore_support\n",
    "from sklearn.metrics import confusion_matrix\n",
    "from keras.layers import *\n",
    "from keras.models import Model\n",
    "from keras.utils import to_categorical\n",
    "from keras.callbacks import EarlyStopping\n",
    "from keras.utils import plot_model\n",
    "\n",
    "import os\n",
    "import cv2\n",
    "import shutil"
   ]
  },
  {
   "cell_type": "code",
   "execution_count": 2,
   "metadata": {
    "execution": {
     "iopub.execute_input": "2024-04-23T18:26:24.825376Z",
     "iopub.status.busy": "2024-04-23T18:26:24.824770Z",
     "iopub.status.idle": "2024-04-23T18:26:24.861844Z",
     "shell.execute_reply": "2024-04-23T18:26:24.860903Z",
     "shell.execute_reply.started": "2024-04-23T18:26:24.825345Z"
    }
   },
   "outputs": [],
   "source": [
    "\n",
    "# Organising data\n",
    "folder_path = \"Shoplifting\"\n",
    "folder_names = [\"0\",\"1\"]\n",
    "\n",
    "if not os.path.exists(folder_path):\n",
    "    os.mkdir(folder_path)\n",
    "else:\n",
    "    print(\"Folder already exists...\")\n",
    "\n",
    "for folder_name in folder_names:\n",
    "    if not os.path.exists(os.path.join(folder_path,folder_name)):\n",
    "        os.mkdir(os.path.join(folder_path,folder_name))\n",
    "    else:\n",
    "        print(\"folder already exists...\")\n",
    "\n",
    "dataset = pd.read_csv(\"/kaggle/input/lifting/Shoplifting.csv\")\n",
    "\n",
    "# the datasets column names are also the part of the dataset\n",
    "# first we will append that data into our dataframe and then rename the columns\n",
    "\n",
    "data = [dataset.columns[0],dataset.columns[1],int(dataset.columns[2])]\n",
    "\n",
    "dataset.loc[len(dataset)] = data\n",
    "\n",
    "dataset.rename(columns={\"Shoplifting001_x264_0\":\"clipname\",\"Shoplifting\":\"Shoplifting\",\"0\":\"Action\"},inplace=True)"
   ]
  },
  {
   "cell_type": "code",
   "execution_count": 3,
   "metadata": {
    "execution": {
     "iopub.execute_input": "2024-04-23T18:26:24.863560Z",
     "iopub.status.busy": "2024-04-23T18:26:24.863190Z",
     "iopub.status.idle": "2024-04-23T18:26:24.868688Z",
     "shell.execute_reply": "2024-04-23T18:26:24.867655Z",
     "shell.execute_reply.started": "2024-04-23T18:26:24.863532Z"
    }
   },
   "outputs": [],
   "source": [
    "ROOT_DIR = r\"D:\\Datasets\\DCSASS Dataset\\Shoplifting\"\n",
    "DESTINATION_ROOT = r\"/kaggle/input/shoplifting-detection-dataset/Shoplifting\"\n",
    "DESTINATION_PATH_0 = r\"D:\\vs code\\python\\DeepLearning\\Projects\\TheftDetection\\Shoplifting\\0\"\n",
    "DESTINATION_PATH_1 = r\"D:\\vs code\\python\\DeepLearning\\Projects\\TheftDetection\\Shoplifting\\1\"\n",
    "\n",
    "directories = os.listdir(ROOT_DIR)\n",
    "\n",
    "for dir in directories:\n",
    "    for d in os.listdir(os.path.join(ROOT_DIR,dir)):\n",
    "            row = dataset.loc[dataset['clipname'] == d[:-4]]\n",
    "            if row['Action'].iloc[0] == 0:\n",
    "                shutil.copy(os.path.join(ROOT_DIR,dir,d),os.path.join(DESTINATION_PATH_0,d))\n",
    "            else:\n",
    "                shutil.copy(os.path.join(ROOT_DIR,dir,d),os.path.join(DESTINATION_PATH_1,d))"
   ]
  },
  {
   "cell_type": "code",
   "execution_count": 4,
   "metadata": {
    "execution": {
     "iopub.execute_input": "2024-04-23T18:26:24.871585Z",
     "iopub.status.busy": "2024-04-23T18:26:24.871226Z",
     "iopub.status.idle": "2024-04-23T18:26:24.884479Z",
     "shell.execute_reply": "2024-04-23T18:26:24.883202Z",
     "shell.execute_reply.started": "2024-04-23T18:26:24.871557Z"
    }
   },
   "outputs": [],
   "source": [
    "print(\"Count of number of video clips with 0 and 1 :-\")\n",
    "print(dataset['Action'].value_counts())\n",
    "print(\"---------------------------------------------------------------------------------------\")\n",
    "print(\"Video clips present in 0 and 1 :-\")\n",
    "print(\"no shoplifting count : \",len(os.listdir(DESTINATION_PATH_0)))\n",
    "print(\"shoplifting count : \",len(os.listdir(DESTINATION_PATH_1)))"
   ]
  },
  {
   "cell_type": "code",
   "execution_count": 5,
   "metadata": {
    "execution": {
     "iopub.execute_input": "2024-04-23T18:26:24.886092Z",
     "iopub.status.busy": "2024-04-23T18:26:24.885750Z",
     "iopub.status.idle": "2024-04-23T18:26:24.895460Z",
     "shell.execute_reply": "2024-04-23T18:26:24.894470Z",
     "shell.execute_reply.started": "2024-04-23T18:26:24.886064Z"
    }
   },
   "outputs": [],
   "source": [
    "seed_constant = 27\n",
    "np.random.seed(seed_constant)\n",
    "tf.random.set_seed(seed_constant)"
   ]
  },
  {
   "cell_type": "code",
   "execution_count": 6,
   "metadata": {
    "execution": {
     "iopub.execute_input": "2024-04-23T18:26:24.897622Z",
     "iopub.status.busy": "2024-04-23T18:26:24.897252Z",
     "iopub.status.idle": "2024-04-23T18:26:24.909578Z",
     "shell.execute_reply": "2024-04-23T18:26:24.908450Z",
     "shell.execute_reply.started": "2024-04-23T18:26:24.897592Z"
    }
   },
   "outputs": [],
   "source": [
    "dim = 64\n",
    "\n",
    "IMAGE_HEIGHT = dim\n",
    "IMAGE_WIDTH = dim\n",
    "\n",
    "# Specify the number of frames that will be fed to the Neural Network\n",
    "SEQUENCE_LENGTH = 30\n",
    "CLASSES_LIST = [\"0\",\"1\"]"
   ]
  },
  {
   "cell_type": "code",
   "execution_count": 7,
   "metadata": {
    "execution": {
     "iopub.execute_input": "2024-04-23T18:26:24.911325Z",
     "iopub.status.busy": "2024-04-23T18:26:24.911003Z",
     "iopub.status.idle": "2024-04-23T18:26:24.923838Z",
     "shell.execute_reply": "2024-04-23T18:26:24.922759Z",
     "shell.execute_reply.started": "2024-04-23T18:26:24.911298Z"
    }
   },
   "outputs": [],
   "source": [
    "def frame_extraction(video_path):\n",
    "    \n",
    "    frame_list = []\n",
    "\n",
    "    video_capture = cv2.VideoCapture(video_path)\n",
    "    video_frame_count = int(video_capture.get(cv2.CAP_PROP_FRAME_COUNT))\n",
    "    skip_frame_window = max(int(video_frame_count/SEQUENCE_LENGTH),1)\n",
    "\n",
    "    for frame_counter in range(SEQUENCE_LENGTH):\n",
    "\n",
    "        # set the current frame position of the video\n",
    "        video_capture.set(cv2.CAP_PROP_POS_FRAMES,frame_counter*skip_frame_window)\n",
    "\n",
    "        success,frame = video_capture.read()\n",
    "\n",
    "        # check if the frame is successfully setup or not \n",
    "        if not success:\n",
    "            break\n",
    "\n",
    "        # Resize the frame into fixed size height and width\n",
    "        resized_frame = cv2.resize(frame,(IMAGE_HEIGHT,IMAGE_WIDTH))\n",
    "\n",
    "        # Normalise the given frame\n",
    "        normalized_frame = resized_frame/255\n",
    "\n",
    "        # Append the normalised frame into  frame list\n",
    "        frame_list.append(normalized_frame)\n",
    "\n",
    "        # release the video capture object,\n",
    "    video_capture.release()\n",
    "\n",
    "    return frame_list\n",
    "\n"
   ]
  },
  {
   "cell_type": "code",
   "execution_count": 8,
   "metadata": {
    "execution": {
     "iopub.execute_input": "2024-04-23T18:26:24.925467Z",
     "iopub.status.busy": "2024-04-23T18:26:24.925134Z",
     "iopub.status.idle": "2024-04-23T18:26:24.941746Z",
     "shell.execute_reply": "2024-04-23T18:26:24.940731Z",
     "shell.execute_reply.started": "2024-04-23T18:26:24.925437Z"
    }
   },
   "outputs": [],
   "source": [
    "def create_dataset():\n",
    "    features = []\n",
    "    labels = []\n",
    "    video_file_paths = []\n",
    "    for cls_index,cls in enumerate(CLASSES_LIST):\n",
    "        # Get the names of list of video files present in specific class name directory\n",
    "        file_list = os.listdir(os.path.join(DESTINATION_ROOT,cls))\n",
    "\n",
    "        for file in file_list:\n",
    "            video_file_path = os.path.join(DESTINATION_ROOT,cls,file)\n",
    "            frames = frame_extraction(video_file_path)\n",
    "            if len(frames) == SEQUENCE_LENGTH:\n",
    "                features.append(frames)\n",
    "                labels.append(cls_index)\n",
    "                video_file_paths.append(video_file_path)\n",
    "\n",
    "# Converting list into numpy array\n",
    "\n",
    "    features = np.asarray(features)\n",
    "    labels = np.array(labels)\n",
    "    return features, labels, video_file_paths"
   ]
  },
  {
   "cell_type": "code",
   "execution_count": null,
   "metadata": {
    "execution": {
     "iopub.execute_input": "2024-04-23T18:26:24.943168Z",
     "iopub.status.busy": "2024-04-23T18:26:24.942843Z"
    }
   },
   "outputs": [],
   "source": [
    "# create a dataset\n",
    "features, labels, video_file_paths = create_dataset()"
   ]
  },
  {
   "cell_type": "code",
   "execution_count": null,
   "metadata": {},
   "outputs": [],
   "source": [
    "one_hot_encoded_labels = to_categorical(labels)"
   ]
  },
  {
   "cell_type": "code",
   "execution_count": null,
   "metadata": {},
   "outputs": [],
   "source": [
    "x_train,x_test,y_train,y_test = train_test_split(features,one_hot_encoded_labels,test_size=0.25,shuffle=True,random_state=seed_constant)"
   ]
  },
  {
   "cell_type": "code",
   "execution_count": null,
   "metadata": {},
   "outputs": [],
   "source": [
    "# Creating Neural Network\n",
    "\n",
    "input_layer = Input(shape=(SEQUENCE_LENGTH,IMAGE_HEIGHT,IMAGE_WIDTH,3))\n",
    "\n",
    "convlstm_1 = ConvLSTM2D(filters=4,kernel_size=(3,3),activation='tanh',data_format='channels_last',recurrent_dropout=0.2,return_sequences=True)(input_layer)\n",
    "pool1 = MaxPooling3D(pool_size=(1,2,2),padding='same',data_format='channels_last')(convlstm_1)\n",
    "timedistributed_1 = TimeDistributed(Dropout(0.2))(pool1)\n",
    "\n",
    "convlstm_2 = ConvLSTM2D(filters=8,kernel_size=(3,3),activation='tanh',data_format='channels_last',recurrent_dropout=0.2,return_sequences=True)(timedistributed_1)\n",
    "pool2 = MaxPooling3D(pool_size=(1,2,2),padding='same',data_format='channels_last')(convlstm_2)\n",
    "timedistributed_2 = TimeDistributed(Dropout(0.2))(pool2)\n",
    "\n",
    "convlstm_3 = ConvLSTM2D(filters=16,kernel_size=(3,3),activation='tanh',data_format='channels_last',recurrent_dropout=0.2,return_sequences=True)(timedistributed_2)\n",
    "pool3 = MaxPooling3D(pool_size=(1,2,2),padding='same',data_format='channels_last')(convlstm_3)\n",
    "timedistributed_3 = TimeDistributed(Dropout(0.2))(pool3)\n",
    "\n",
    "convlstm_4 = ConvLSTM2D(filters=32,kernel_size=(3,3),activation='tanh',data_format='channels_last',recurrent_dropout=0.2,return_sequences=True)(timedistributed_3)\n",
    "pool4 = MaxPooling3D(pool_size=(1,2,2),padding='same',data_format='channels_last')(convlstm_4)\n",
    "\n",
    "flatten = Flatten()(pool4)\n",
    "\n",
    "output = Dense(units=len(CLASSES_LIST), activation='softmax')(flatten)\n",
    "\n",
    "\n",
    "\n",
    "model = Model(input_layer,output)"
   ]
  },
  {
   "cell_type": "code",
   "execution_count": null,
   "metadata": {},
   "outputs": [],
   "source": [
    "model.summary()"
   ]
  },
  {
   "cell_type": "code",
   "execution_count": null,
   "metadata": {},
   "outputs": [],
   "source": [
    "early_stopping_callback = EarlyStopping(monitor='val_loss',patience=10,mode='min',restore_best_weights=True)"
   ]
  },
  {
   "cell_type": "code",
   "execution_count": null,
   "metadata": {},
   "outputs": [],
   "source": [
    "model.compile(loss=\"categorical_crossentropy\",optimizer='adam',metrics=['accuracy'])"
   ]
  },
  {
   "cell_type": "code",
   "execution_count": 17,
   "metadata": {
    "execution": {
     "iopub.status.idle": "2024-04-23T18:41:38.930642Z",
     "shell.execute_reply": "2024-04-23T18:41:38.929578Z",
     "shell.execute_reply.started": "2024-04-23T18:31:17.242433Z"
    }
   },
   "outputs": [
    {
     "name": "stderr",
     "output_type": "stream",
     "text": [
      "WARNING: All log messages before absl::InitializeLog() is called are written to STDERR\n",
      "I0000 00:00:1713897330.477009    3694 device_compiler.h:186] Compiled cluster using XLA!  This line is logged at most once for the lifetime of the process.\n",
      "W0000 00:00:1713897330.604624    3694 graph_launch.cc:671] Fallback to op-by-op mode because memset node breaks graph update\n"
     ]
    },
    {
     "name": "stdout",
     "output_type": "stream",
     "text": [
      "\u001b[1m135/135\u001b[0m \u001b[32m━━━━━━━━━━━━━━━━━━━━\u001b[0m\u001b[37m\u001b[0m \u001b[1m0s\u001b[0m 2s/step - accuracy: 0.7977 - loss: 0.5508  "
     ]
    },
    {
     "name": "stderr",
     "output_type": "stream",
     "text": [
      "W0000 00:00:1713897567.704330    3695 graph_launch.cc:671] Fallback to op-by-op mode because memset node breaks graph update\n"
     ]
    },
    {
     "name": "stdout",
     "output_type": "stream",
     "text": [
      "\u001b[1m135/135\u001b[0m \u001b[32m━━━━━━━━━━━━━━━━━━━━\u001b[0m\u001b[37m\u001b[0m \u001b[1m492s\u001b[0m 2s/step - accuracy: 0.7980 - loss: 0.5504 - val_accuracy: 0.7926 - val_loss: 0.5005\n",
      "Epoch 2/50\n",
      "\u001b[1m  1/135\u001b[0m \u001b[37m━━━━━━━━━━━━━━━━━━━━\u001b[0m \u001b[1m14s\u001b[0m 105ms/step - accuracy: 0.5000 - loss: 0.8719"
     ]
    },
    {
     "name": "stderr",
     "output_type": "stream",
     "text": [
      "W0000 00:00:1713897571.567354    3694 graph_launch.cc:671] Fallback to op-by-op mode because memset node breaks graph update\n"
     ]
    },
    {
     "name": "stdout",
     "output_type": "stream",
     "text": [
      "\u001b[1m135/135\u001b[0m \u001b[32m━━━━━━━━━━━━━━━━━━━━\u001b[0m\u001b[37m\u001b[0m \u001b[1m10s\u001b[0m 72ms/step - accuracy: 0.8268 - loss: 0.4599 - val_accuracy: 0.7926 - val_loss: 0.5050\n",
      "Epoch 3/50\n",
      "\u001b[1m135/135\u001b[0m \u001b[32m━━━━━━━━━━━━━━━━━━━━\u001b[0m\u001b[37m\u001b[0m \u001b[1m10s\u001b[0m 73ms/step - accuracy: 0.8310 - loss: 0.4527 - val_accuracy: 0.7926 - val_loss: 0.5052\n",
      "Epoch 4/50\n",
      "\u001b[1m135/135\u001b[0m \u001b[32m━━━━━━━━━━━━━━━━━━━━\u001b[0m\u001b[37m\u001b[0m \u001b[1m10s\u001b[0m 72ms/step - accuracy: 0.8354 - loss: 0.4237 - val_accuracy: 0.8000 - val_loss: 0.4981\n",
      "Epoch 5/50\n",
      "\u001b[1m135/135\u001b[0m \u001b[32m━━━━━━━━━━━━━━━━━━━━\u001b[0m\u001b[37m\u001b[0m \u001b[1m10s\u001b[0m 73ms/step - accuracy: 0.8288 - loss: 0.3823 - val_accuracy: 0.7704 - val_loss: 0.5244\n",
      "Epoch 6/50\n",
      "\u001b[1m135/135\u001b[0m \u001b[32m━━━━━━━━━━━━━━━━━━━━\u001b[0m\u001b[37m\u001b[0m \u001b[1m10s\u001b[0m 73ms/step - accuracy: 0.8560 - loss: 0.3408 - val_accuracy: 0.7630 - val_loss: 0.5601\n",
      "Epoch 7/50\n",
      "\u001b[1m135/135\u001b[0m \u001b[32m━━━━━━━━━━━━━━━━━━━━\u001b[0m\u001b[37m\u001b[0m \u001b[1m10s\u001b[0m 73ms/step - accuracy: 0.8573 - loss: 0.3160 - val_accuracy: 0.7481 - val_loss: 0.5946\n",
      "Epoch 8/50\n",
      "\u001b[1m135/135\u001b[0m \u001b[32m━━━━━━━━━━━━━━━━━━━━\u001b[0m\u001b[37m\u001b[0m \u001b[1m10s\u001b[0m 72ms/step - accuracy: 0.8807 - loss: 0.2884 - val_accuracy: 0.7481 - val_loss: 0.6790\n",
      "Epoch 9/50\n",
      "\u001b[1m135/135\u001b[0m \u001b[32m━━━━━━━━━━━━━━━━━━━━\u001b[0m\u001b[37m\u001b[0m \u001b[1m10s\u001b[0m 72ms/step - accuracy: 0.8748 - loss: 0.2713 - val_accuracy: 0.7630 - val_loss: 0.6196\n",
      "Epoch 10/50\n",
      "\u001b[1m135/135\u001b[0m \u001b[32m━━━━━━━━━━━━━━━━━━━━\u001b[0m\u001b[37m\u001b[0m \u001b[1m10s\u001b[0m 72ms/step - accuracy: 0.8772 - loss: 0.2524 - val_accuracy: 0.7630 - val_loss: 0.5654\n",
      "Epoch 11/50\n",
      "\u001b[1m135/135\u001b[0m \u001b[32m━━━━━━━━━━━━━━━━━━━━\u001b[0m\u001b[37m\u001b[0m \u001b[1m10s\u001b[0m 72ms/step - accuracy: 0.8940 - loss: 0.2691 - val_accuracy: 0.7481 - val_loss: 0.6442\n",
      "Epoch 12/50\n",
      "\u001b[1m135/135\u001b[0m \u001b[32m━━━━━━━━━━━━━━━━━━━━\u001b[0m\u001b[37m\u001b[0m \u001b[1m10s\u001b[0m 72ms/step - accuracy: 0.8930 - loss: 0.2296 - val_accuracy: 0.8000 - val_loss: 0.5584\n",
      "Epoch 13/50\n",
      "\u001b[1m135/135\u001b[0m \u001b[32m━━━━━━━━━━━━━━━━━━━━\u001b[0m\u001b[37m\u001b[0m \u001b[1m10s\u001b[0m 72ms/step - accuracy: 0.9123 - loss: 0.2005 - val_accuracy: 0.8074 - val_loss: 0.8302\n",
      "Epoch 14/50\n",
      "\u001b[1m135/135\u001b[0m \u001b[32m━━━━━━━━━━━━━━━━━━━━\u001b[0m\u001b[37m\u001b[0m \u001b[1m10s\u001b[0m 73ms/step - accuracy: 0.9305 - loss: 0.1783 - val_accuracy: 0.8000 - val_loss: 0.8231\n"
     ]
    }
   ],
   "source": [
    "history = model.fit(x_train,y_train,epochs=50,batch_size=4,shuffle=True, validation_split=0.2,callbacks=[early_stopping_callback])"
   ]
  },
  {
   "cell_type": "code",
   "execution_count": 18,
   "metadata": {
    "execution": {
     "iopub.execute_input": "2024-04-23T18:41:38.937719Z",
     "iopub.status.busy": "2024-04-23T18:41:38.937321Z",
     "iopub.status.idle": "2024-04-23T18:41:39.008452Z",
     "shell.execute_reply": "2024-04-23T18:41:39.007470Z",
     "shell.execute_reply.started": "2024-04-23T18:41:38.937690Z"
    }
   },
   "outputs": [],
   "source": [
    "model.save(\"model_2.h5\")"
   ]
  },
  {
   "cell_type": "code",
   "execution_count": 25,
   "metadata": {
    "execution": {
     "iopub.execute_input": "2024-04-23T18:49:34.106010Z",
     "iopub.status.busy": "2024-04-23T18:49:34.105568Z",
     "iopub.status.idle": "2024-04-23T18:49:35.784598Z",
     "shell.execute_reply": "2024-04-23T18:49:35.783435Z",
     "shell.execute_reply.started": "2024-04-23T18:49:34.105978Z"
    }
   },
   "outputs": [
    {
     "name": "stdout",
     "output_type": "stream",
     "text": [
      "\u001b[1m7/7\u001b[0m \u001b[32m━━━━━━━━━━━━━━━━━━━━\u001b[0m\u001b[37m\u001b[0m \u001b[1m1s\u001b[0m 77ms/step - accuracy: 0.8256 - loss: 0.4393\n",
      "Loss :  0.4352162182331085\n",
      "Accuracy :  0.8214285969734192\n"
     ]
    }
   ],
   "source": [
    "loss,accuracy = model.evaluate(x_test,y_test)\n",
    "\n",
    "print(\"Loss : \",loss)\n",
    "print(\"Accuracy : \",accuracy)"
   ]
  },
  {
   "cell_type": "code",
   "execution_count": 23,
   "metadata": {
    "execution": {
     "iopub.execute_input": "2024-04-23T18:44:08.391485Z",
     "iopub.status.busy": "2024-04-23T18:44:08.391046Z",
     "iopub.status.idle": "2024-04-23T18:44:08.399098Z",
     "shell.execute_reply": "2024-04-23T18:44:08.397874Z",
     "shell.execute_reply.started": "2024-04-23T18:44:08.391452Z"
    }
   },
   "outputs": [],
   "source": [
    "# Plotting loss curve for training and validation set\n",
    "\n",
    "def plot_curve(model_training_history,metric_name_1,metric_name_2,plot_name):\n",
    "    \n",
    "    metric1 = model_training_history.history[metric_name_1]\n",
    "    metric2 = model_training_history.history[metric_name_2]\n",
    "    plt.plot(metric1,color='blue',label=metric_name_1)\n",
    "    plt.plot(metric2,color='red',label=metric_name_2)\n",
    "    plt.title(str(plot_name))\n",
    "    plt.legend()\n",
    "    plt.show()"
   ]
  },
  {
   "cell_type": "code",
   "execution_count": 24,
   "metadata": {
    "execution": {
     "iopub.execute_input": "2024-04-23T18:44:10.440502Z",
     "iopub.status.busy": "2024-04-23T18:44:10.439757Z",
     "iopub.status.idle": "2024-04-23T18:44:10.806942Z",
     "shell.execute_reply": "2024-04-23T18:44:10.805897Z",
     "shell.execute_reply.started": "2024-04-23T18:44:10.440466Z"
    }
   },
   "outputs": [
    {
     "data": {
      "image/png": "[encoded data removed]",
      "text/plain": [
       "<Figure size 640x480 with 1 Axes>"
      ]
     },
     "metadata": {},
     "output_type": "display_data"
    }
   ],
   "source": [
    "plot_curve(history,'loss','val_loss',\"Total loss vs Total validation loss\")"
   ]
  },
  {
   "cell_type": "code",
   "execution_count": 22,
   "metadata": {
    "execution": {
     "iopub.execute_input": "2024-04-23T18:42:37.389591Z",
     "iopub.status.busy": "2024-04-23T18:42:37.388615Z",
     "iopub.status.idle": "2024-04-23T18:42:42.191607Z",
     "shell.execute_reply": "2024-04-23T18:42:42.190449Z",
     "shell.execute_reply.started": "2024-04-23T18:42:37.389551Z"
    }
   },
   "outputs": [
    {
     "name": "stdout",
     "output_type": "stream",
     "text": [
      "\u001b[1m3/7\u001b[0m \u001b[32m━━━━━━━━\u001b[0m\u001b[37m━━━━━━━━━━━━\u001b[0m \u001b[1m0s\u001b[0m 84ms/step"
     ]
    },
    {
     "name": "stderr",
     "output_type": "stream",
     "text": [
      "W0000 00:00:1713897761.701258    3696 graph_launch.cc:671] Fallback to op-by-op mode because memset node breaks graph update\n"
     ]
    },
    {
     "name": "stdout",
     "output_type": "stream",
     "text": [
      "\u001b[1m7/7\u001b[0m \u001b[32m━━━━━━━━━━━━━━━━━━━━\u001b[0m\u001b[37m\u001b[0m \u001b[1m4s\u001b[0m 64ms/step\n",
      "Precision: [0.82432432 0.5       ]\n",
      "Recall: [0.99456522 0.025     ]\n",
      "F1 Score: [0.90147783 0.04761905]\n"
     ]
    }
   ],
   "source": [
    "predictions = model.predict(x_test)\n",
    "\n",
    "# Assuming predictions are in probability form and you need to convert them to binary labels\n",
    "binary_predictions = (predictions > 0.5).astype('int32')\n",
    "\n",
    "# Calculate precision, recall, and F1 score\n",
    "precision, recall, f1_score, _ = precision_recall_fscore_support(y_test, binary_predictions, average=None)\n",
    "\n",
    "print(\"Precision:\", precision)\n",
    "print(\"Recall:\", recall)\n",
    "print(\"F1 Score:\", f1_score)"
   ]
  },
  {
   "cell_type": "markdown",
   "metadata": {},
   "source": [
    "Confusion Matrix"
   ]
  },
  {
   "cell_type": "code",
   "execution_count": 29,
   "metadata": {
    "execution": {
     "iopub.execute_input": "2024-04-23T18:53:43.018362Z",
     "iopub.status.busy": "2024-04-23T18:53:43.017417Z",
     "iopub.status.idle": "2024-04-23T18:53:43.026230Z",
     "shell.execute_reply": "2024-04-23T18:53:43.025145Z",
     "shell.execute_reply.started": "2024-04-23T18:53:43.018330Z"
    }
   },
   "outputs": [],
   "source": [
    "predicted_labels = np.argmax(predictions, axis=1)\n",
    "true_labels = np.argmax(y_test, axis=1)  # Assuming test_Y is one-hot encoded\n",
    "conf_matrix = confusion_matrix(true_labels, predicted_labels)"
   ]
  },
  {
   "cell_type": "code",
   "execution_count": 32,
   "metadata": {
    "execution": {
     "iopub.execute_input": "2024-04-23T18:55:26.097877Z",
     "iopub.status.busy": "2024-04-23T18:55:26.097443Z",
     "iopub.status.idle": "2024-04-23T18:55:26.470640Z",
     "shell.execute_reply": "2024-04-23T18:55:26.469273Z",
     "shell.execute_reply.started": "2024-04-23T18:55:26.097844Z"
    }
   },
   "outputs": [
    {
     "data": {
      "image/png": "[encoded data removed]",
      "text/plain": [
       "<Figure size 800x600 with 2 Axes>"
      ]
     },
     "metadata": {},
     "output_type": "display_data"
    }
   ],
   "source": [
    "plt.figure(figsize=(8, 6))\n",
    "sns.heatmap(conf_matrix, annot=True, fmt='d', cmap='Blues')\n",
    "plt.xlabel('Predicted labels')\n",
    "plt.ylabel('True labels')\n",
    "plt.title('Confusion Matrix')\n",
    "plt.show()"
   ]
  }
 ],
 "metadata": {
  "kaggle": {
   "accelerator": "nvidiaTeslaT4",
   "dataSources": [
    {
     "datasetId": 4847196,
     "sourceId": 8186045,
     "sourceType": "datasetVersion"
    },
    {
     "datasetId": 4847213,
     "sourceId": 8186067,
     "sourceType": "datasetVersion"
    }
   ],
   "dockerImageVersionId": 30698,
   "isGpuEnabled": true,
   "isInternetEnabled": true,
   "language": "python",
   "sourceType": "notebook"
  },
  "kernelspec": {
   "display_name": "Python 3 (ipykernel)",
   "language": "python",
   "name": "python3"
  },
  "language_info": {
   "codemirror_mode": {
    "name": "ipython",
    "version": 3
   },
   "file_extension": ".py",
   "mimetype": "text/x-python",
   "name": "python",
   "nbconvert_exporter": "python",
   "pygments_lexer": "ipython3",
   "version": "3.9.13"
  }
 },
 "nbformat": 4,
 "nbformat_minor": 4
}
